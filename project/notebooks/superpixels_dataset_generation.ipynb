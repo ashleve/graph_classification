{
 "cells": [
  {
   "cell_type": "code",
   "execution_count": 1,
   "metadata": {
    "pycharm": {
     "is_executing": false
    }
   },
   "outputs": [],
   "source": [
    "from torch_geometric.data import Data, Batch, DataLoader\n",
    "from torchvision.datasets import MNIST, CIFAR10, FashionMNIST\n",
    "import torch\n",
    "\n",
    "import matplotlib.pyplot as plt\n",
    "import numpy as np\n",
    "import time\n",
    "\n",
    "# add directory above current directory to path\n",
    "import sys\n",
    "sys.path.insert(0, '..')"
   ]
  },
  {
   "cell_type": "markdown",
   "metadata": {},
   "source": [
    "# Parameters"
   ]
  },
  {
   "cell_type": "code",
   "execution_count": 2,
   "metadata": {
    "pycharm": {
     "is_executing": false
    }
   },
   "outputs": [],
   "source": [
    "DATASET_NAME = \"MNIST\"\n",
    "ADD_POSITION_TO_FEATURES = True\n",
    "DESIRED_NODES = 300"
   ]
  },
  {
   "cell_type": "markdown",
   "metadata": {},
   "source": [
    "## Load image dataset"
   ]
  },
  {
   "cell_type": "code",
   "execution_count": 3,
   "metadata": {
    "pycharm": {
     "is_executing": false
    }
   },
   "outputs": [
    {
     "name": "stdout",
     "output_type": "stream",
     "text": [
      "Reading dataset...\n",
      "Done.\n"
     ]
    }
   ],
   "source": [
    "print(\"Reading dataset...\")\n",
    "\n",
    "if DATASET_NAME == \"MNIST\":\n",
    "    trainset = MNIST(\"../data\", download=True, train=True)\n",
    "    testset = MNIST(\"../data\", download=True, train=False)\n",
    "    \n",
    "elif DATASET_NAME == \"CIFAR10\":\n",
    "    trainset = CIFAR10(\"../data\", download=True, train=True)\n",
    "    testset = CIFAR10(\"../data\", download=True, train=False)\n",
    "    \n",
    "elif DATASET_NAME == \"FashionMNIST\":\n",
    "    trainset = FashionMNIST(\"../data\", download=True, train=True)\n",
    "    testset = FashionMNIST(\"../data\", download=True, train=False)\n",
    "\n",
    "print(\"Done.\")"
   ]
  },
  {
   "cell_type": "code",
   "execution_count": 4,
   "metadata": {
    "pycharm": {
     "is_executing": false
    }
   },
   "outputs": [
    {
     "name": "stdout",
     "output_type": "stream",
     "text": [
      "60000\n",
      "10000\n"
     ]
    }
   ],
   "source": [
    "print(len(trainset))\n",
    "print(len(testset))"
   ]
  },
  {
   "cell_type": "code",
   "execution_count": 5,
   "metadata": {
    "pycharm": {
     "is_executing": false
    }
   },
   "outputs": [
    {
     "name": "stdout",
     "output_type": "stream",
     "text": [
      "torch.Size([60000, 28, 28])\n",
      "torch.Size([10000, 28, 28])\n",
      "(70000, 28, 28, 1)\n"
     ]
    },
    {
     "data": {
      "image/png": "[encoded data removed]",
      "text/plain": [
       "<Figure size 432x288 with 1 Axes>"
      ]
     },
     "metadata": {
      "needs_background": "light"
     },
     "output_type": "display_data"
    }
   ],
   "source": [
    "train_images = trainset.data\n",
    "test_images = testset.data\n",
    "print(train_images.shape)\n",
    "print(test_images.shape)\n",
    "\n",
    "images = np.concatenate((train_images, test_images))\n",
    "images = np.reshape(images, (len(images), 28, 28, 1))\n",
    "print(images.shape)\n",
    "\n",
    "first_image = images[0]\n",
    "plt.imshow(first_image, cmap='gray')\n",
    "plt.show()"
   ]
  },
  {
   "cell_type": "code",
   "execution_count": 6,
   "metadata": {
    "pycharm": {
     "is_executing": false
    }
   },
   "outputs": [
    {
     "name": "stdout",
     "output_type": "stream",
     "text": [
      "(70000,)\n"
     ]
    }
   ],
   "source": [
    "train_labels = trainset.targets\n",
    "test_labels = testset.targets\n",
    "labels = np.concatenate((train_labels, test_labels))\n",
    "print(labels.shape)"
   ]
  },
  {
   "cell_type": "markdown",
   "metadata": {},
   "source": [
    "## Test conversion on one img"
   ]
  },
  {
   "cell_type": "code",
   "execution_count": 7,
   "metadata": {
    "pycharm": {
     "is_executing": false
    }
   },
   "outputs": [
    {
     "name": "stdout",
     "output_type": "stream",
     "text": [
      "<class 'numpy.ndarray'>\n",
      "(196, 3)\n",
      "(1120, 2)\n",
      "(196, 2)\n"
     ]
    }
   ],
   "source": [
    "from utils.img_to_graph import convert_img_to_superpixels_graph\n",
    "\n",
    "\n",
    "x, edge_index, pos = convert_img_to_superpixels_graph(\n",
    "    images[0],\n",
    "    desired_nodes = DESIRED_NODES, \n",
    "    add_position_to_features=ADD_POSITION_TO_FEATURES\n",
    ")\n",
    "print(type(x))\n",
    "print(x.shape)\n",
    "print(edge_index.shape)\n",
    "print(pos.shape)"
   ]
  },
  {
   "cell_type": "markdown",
   "metadata": {},
   "source": [
    "## Convert image dataset to superpixel graph dataset"
   ]
  },
  {
   "cell_type": "code",
   "execution_count": 8,
   "metadata": {},
   "outputs": [
    {
     "name": "stdout",
     "output_type": "stream",
     "text": [
      "Processing images into graphs...\n"
     ]
    },
    {
     "data": {
      "application/vnd.jupyter.widget-view+json": {
       "model_id": "d04bbf4ac8354a70989aae1e5e641ee0",
       "version_major": 2,
       "version_minor": 0
      },
      "text/plain": [
       "HBox(children=(HTML(value=''), FloatProgress(value=0.0, max=70000.0), HTML(value='')))"
      ]
     },
     "metadata": {},
     "output_type": "display_data"
    },
    {
     "name": "stdout",
     "output_type": "stream",
     "text": [
      "\n",
      "Took 336.95216608047485s.\n"
     ]
    }
   ],
   "source": [
    "import multiprocessing\n",
    "from itertools import repeat\n",
    "\n",
    "# apply patch to enable progress bar with multiprocessing, requires python 3.8+\n",
    "# see https://stackoverflow.com/questions/57354700/starmap-combined-with-tqdm/57364423#57364423\n",
    "from utils.img_to_graph import better_istarmap\n",
    "multiprocessing.pool.Pool.istarmap = better_istarmap\n",
    "\n",
    "# method for img -> superpixel_graph conversion\n",
    "from utils.img_to_graph import convert_img_to_superpixels_graph\n",
    "\n",
    "# tqdm for progress bar\n",
    "from tqdm.auto import tqdm\n",
    "\n",
    "\n",
    "print(\"Processing images into graphs...\")\n",
    "ptime = time.time()\n",
    "\n",
    "\n",
    "x_list = []\n",
    "edge_index_list = []\n",
    "pos_list = []\n",
    "slices = {\n",
    "    \"x\": [0],\n",
    "    \"edge_index\": [0],\n",
    "    \"pos\": [0],\n",
    "    \"y\": [0],\n",
    "}\n",
    "\n",
    "\n",
    "NUM_WORKERS = 6  # don't use too much or it will crash\n",
    "with multiprocessing.Pool(NUM_WORKERS) as pool:\n",
    "    args = list(zip(images, repeat(DESIRED_NODES), repeat(ADD_POSITION_TO_FEATURES)))\n",
    "    for graph in tqdm(pool.istarmap(convert_img_to_superpixels_graph, args), total=len(args)):\n",
    "        x, edge_index, pos = graph\n",
    "        \n",
    "        x = torch.as_tensor(x, dtype=torch.float32)\n",
    "        edge_index = torch.as_tensor(edge_index, dtype=torch.long)\n",
    "        pos = torch.as_tensor(pos, dtype=torch.float32)\n",
    "        \n",
    "        x_list.append(x)\n",
    "        edge_index_list.append(edge_index)\n",
    "        pos_list.append(pos)\n",
    "        \n",
    "        slices[\"x\"].append(slices[\"x\"][-1] + len(x))\n",
    "        slices[\"edge_index\"].append(slices[\"edge_index\"][-1] + len(edge_index))\n",
    "        slices[\"pos\"].append(slices[\"pos\"][-1] + len(pos))\n",
    "        slices[\"y\"].append(slices[\"y\"][-1] + 1)\n",
    "\n",
    "\n",
    "x_tensor = torch.cat(x_list, dim=0)\n",
    "edge_index_tensor = torch.cat(edge_index_list, dim=0).T\n",
    "pos_tensor = torch.cat(pos_list, dim=0)         \n",
    "y_tensor = torch.as_tensor(labels, dtype=torch.long)\n",
    "\n",
    "slices[\"x\"] = torch.as_tensor(slices[\"x\"], dtype=torch.long)\n",
    "slices[\"edge_index\"] = torch.as_tensor(slices[\"edge_index\"], dtype=torch.long)\n",
    "slices[\"pos\"] = torch.as_tensor(slices[\"pos\"], dtype=torch.long)\n",
    "slices[\"y\"] = torch.as_tensor(slices[\"y\"], dtype=torch.long)\n",
    "\n",
    "del x_list\n",
    "del edge_index_list\n",
    "del pos_list\n",
    "            \n",
    "\n",
    "ptime = time.time() - ptime\n",
    "print(f\"Took {ptime}s.\")"
   ]
  },
  {
   "cell_type": "code",
   "execution_count": 9,
   "metadata": {},
   "outputs": [
    {
     "name": "stdout",
     "output_type": "stream",
     "text": [
      "torch.Size([13720000, 3])\n",
      "torch.Size([2, 78400000])\n",
      "torch.Size([13720000, 2])\n",
      "torch.Size([70000])\n"
     ]
    }
   ],
   "source": [
    "print(x_tensor.shape)\n",
    "print(edge_index_tensor.shape)\n",
    "print(pos_tensor.shape)\n",
    "print(y_tensor.shape)"
   ]
  },
  {
   "cell_type": "code",
   "execution_count": 10,
   "metadata": {},
   "outputs": [
    {
     "name": "stdout",
     "output_type": "stream",
     "text": [
      "Data(edge_index=[2, 78400000], pos=[13720000, 2], x=[13720000, 3], y=[70000])\n"
     ]
    }
   ],
   "source": [
    "data = Data(x=x_tensor, edge_index=edge_index_tensor, pos=pos_tensor, y=y_tensor)\n",
    "print(data)"
   ]
  },
  {
   "cell_type": "markdown",
   "metadata": {},
   "source": [
    "## Save dataset in PyTorch Geometric format"
   ]
  },
  {
   "cell_type": "code",
   "execution_count": 21,
   "metadata": {},
   "outputs": [],
   "source": [
    "import os\n",
    "\n",
    "path = \"../data/\" + DATASET_NAME + \"_superpixels_\" + str(DESIRED_NODES) + \"/\" + \"processed\" + \"/\"\n",
    "if not os.path.exists(path):\n",
    "    os.makedirs(path)\n",
    "\n",
    "torch.save((data, slices), path + \"data.pt\")"
   ]
  },
  {
   "cell_type": "code",
   "execution_count": null,
   "metadata": {},
   "outputs": [],
   "source": []
  }
 ],
 "metadata": {
  "kernelspec": {
   "display_name": "Python 3",
   "language": "python",
   "name": "python3"
  },
  "language_info": {
   "codemirror_mode": {
    "name": "ipython",
    "version": 3
   },
   "file_extension": ".py",
   "mimetype": "text/x-python",
   "name": "python",
   "nbconvert_exporter": "python",
   "pygments_lexer": "ipython3",
   "version": "3.8.6"
  },
  "pycharm": {
   "stem_cell": {
    "cell_type": "raw",
    "source": [],
    "metadata": {
     "collapsed": false
    }
   }
  }
 },
 "nbformat": 4,
 "nbformat_minor": 1
}