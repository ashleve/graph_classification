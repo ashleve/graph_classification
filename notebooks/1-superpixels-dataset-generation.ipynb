{
 "cells": [
  {
   "cell_type": "code",
   "execution_count": 1,
   "metadata": {
    "pycharm": {
     "is_executing": false
    }
   },
   "outputs": [],
   "source": [
    "from torch_geometric.data import Data, Batch, DataLoader\n",
    "from torchvision.datasets import MNIST, CIFAR10, FashionMNIST\n",
    "import torch\n",
    "\n",
    "import matplotlib.pyplot as plt\n",
    "import numpy as np\n",
    "import time\n",
    "\n",
    "# add directory above current directory to path\n",
    "import sys\n",
    "sys.path.insert(0, '..')"
   ]
  },
  {
   "cell_type": "markdown",
   "metadata": {},
   "source": [
    "# Parameters"
   ]
  },
  {
   "cell_type": "code",
   "execution_count": 2,
   "metadata": {
    "pycharm": {
     "is_executing": false
    }
   },
   "outputs": [],
   "source": [
    "DATASET_NAME = \"MNIST\"\n",
    "ADD_POSITION_TO_FEATURES = True\n",
    "DESIRED_NODES = 75"
   ]
  },
  {
   "cell_type": "markdown",
   "metadata": {},
   "source": [
    "## Load img dataset"
   ]
  },
  {
   "cell_type": "code",
   "execution_count": 3,
   "metadata": {
    "pycharm": {
     "is_executing": false
    }
   },
   "outputs": [
    {
     "output_type": "stream",
     "name": "stdout",
     "text": [
      "Reading dataset...\n",
      "Downloading http://yann.lecun.com/exdb/mnist/train-images-idx3-ubyte.gz\n",
      "Failed to download (trying next):\n",
      "HTTP Error 503: Service Unavailable\n",
      "\n",
      "Downloading https://ossci-datasets.s3.amazonaws.com/mnist/train-images-idx3-ubyte.gz\n",
      "Downloading https://ossci-datasets.s3.amazonaws.com/mnist/train-images-idx3-ubyte.gz to ../data/MNIST/raw/train-images-idx3-ubyte.gz\n",
      "9913344it [00:10, 975020.45it/s]                              \n",
      "Extracting ../data/MNIST/raw/train-images-idx3-ubyte.gz to ../data/MNIST/raw\n",
      "\n",
      "Downloading http://yann.lecun.com/exdb/mnist/train-labels-idx1-ubyte.gz\n",
      "Downloading http://yann.lecun.com/exdb/mnist/train-labels-idx1-ubyte.gz to ../data/MNIST/raw/train-labels-idx1-ubyte.gz\n",
      "29696it [00:00, 144630.84it/s]                          \n",
      "Extracting ../data/MNIST/raw/train-labels-idx1-ubyte.gz to ../data/MNIST/raw\n",
      "\n",
      "Downloading http://yann.lecun.com/exdb/mnist/t10k-images-idx3-ubyte.gz\n",
      "Downloading http://yann.lecun.com/exdb/mnist/t10k-images-idx3-ubyte.gz to ../data/MNIST/raw/t10k-images-idx3-ubyte.gz\n",
      "1649664it [00:49, 33407.44it/s]                             \n",
      "Extracting ../data/MNIST/raw/t10k-images-idx3-ubyte.gz to ../data/MNIST/raw\n",
      "\n",
      "Downloading http://yann.lecun.com/exdb/mnist/t10k-labels-idx1-ubyte.gz\n",
      "Downloading http://yann.lecun.com/exdb/mnist/t10k-labels-idx1-ubyte.gz to ../data/MNIST/raw/t10k-labels-idx1-ubyte.gz\n",
      "5120it [00:00, 14316557.65it/s]         Extracting ../data/MNIST/raw/t10k-labels-idx1-ubyte.gz to ../data/MNIST/raw\n",
      "\n",
      "Done.\n",
      "\n",
      "/home/ukasz/miniconda3/envs/pygeom/lib/python3.8/site-packages/torchvision/datasets/mnist.py:498: UserWarning: The given NumPy array is not writeable, and PyTorch does not support non-writeable tensors. This means you can write to the underlying (supposedly non-writeable) NumPy array using the tensor. You may want to copy the array to protect its data or make it writeable before converting it to a tensor. This type of warning will be suppressed for the rest of this program. (Triggered internally at  /opt/conda/conda-bld/pytorch_1623448234945/work/torch/csrc/utils/tensor_numpy.cpp:180.)\n",
      "  return torch.from_numpy(parsed.astype(m[2], copy=False)).view(*s)\n"
     ]
    }
   ],
   "source": [
    "print(\"Reading dataset...\")\n",
    "\n",
    "if DATASET_NAME == \"MNIST\":\n",
    "    trainset = MNIST(\"../data\", download=True, train=True)\n",
    "    testset = MNIST(\"../data\", download=True, train=False)\n",
    "    \n",
    "elif DATASET_NAME == \"CIFAR10\":\n",
    "    trainset = CIFAR10(\"../data/CIFAR10\", download=True, train=True)\n",
    "    testset = CIFAR10(\"../data/CIFAR10\", download=True, train=False)\n",
    "    \n",
    "elif DATASET_NAME == \"FashionMNIST\":\n",
    "    trainset = FashionMNIST(\"../data\", download=True, train=True)\n",
    "    testset = FashionMNIST(\"../data\", download=True, train=False)\n",
    "    \n",
    "else:\n",
    "    print(\"Incorrect dataset name!\")\n",
    "\n",
    "print(\"Done.\")"
   ]
  },
  {
   "cell_type": "code",
   "execution_count": 4,
   "metadata": {
    "pycharm": {
     "is_executing": false
    }
   },
   "outputs": [
    {
     "output_type": "stream",
     "name": "stdout",
     "text": [
      "60000\n10000\n"
     ]
    }
   ],
   "source": [
    "print(len(trainset))\n",
    "print(len(testset))"
   ]
  },
  {
   "cell_type": "code",
   "execution_count": 5,
   "metadata": {
    "pycharm": {
     "is_executing": false
    }
   },
   "outputs": [
    {
     "output_type": "stream",
     "name": "stdout",
     "text": [
      "Img shape: torch.Size([28, 28])\nNum of pixels per img: 784\n"
     ]
    }
   ],
   "source": [
    "num_pixels = np.prod(trainset.data.shape[1:3])\n",
    "print(\"Img shape:\", trainset.data.shape[1:])\n",
    "print(\"Num of pixels per img:\", num_pixels)\n",
    "assert DESIRED_NODES < num_pixels, ('the number of superpixels cannot exceed the total number of pixels')\n",
    "assert DESIRED_NODES > 1, ('the number of superpixels cannot be too small')"
   ]
  },
  {
   "cell_type": "markdown",
   "metadata": {},
   "source": [
    "## Concatenate dataset"
   ]
  },
  {
   "cell_type": "code",
   "execution_count": 6,
   "metadata": {
    "pycharm": {
     "is_executing": false
    }
   },
   "outputs": [
    {
     "output_type": "stream",
     "name": "stdout",
     "text": [
      "torch.Size([60000, 28, 28])\ntorch.Size([10000, 28, 28])\n(70000, 28, 28, 1)\n(70000,)\n"
     ]
    }
   ],
   "source": [
    "train_images = trainset.data\n",
    "test_images = testset.data\n",
    "print(train_images.shape)\n",
    "print(test_images.shape)\n",
    "\n",
    "images = np.concatenate((train_images, test_images))\n",
    "if DATASET_NAME == \"MNIST\" or DATASET_NAME == \"FashionMNIST\":\n",
    "    images = np.reshape(images, (len(images), 28, 28, 1))\n",
    "print(images.shape)\n",
    "\n",
    "train_labels = trainset.targets\n",
    "test_labels = testset.targets\n",
    "labels = np.concatenate((train_labels, test_labels))\n",
    "print(labels.shape)"
   ]
  },
  {
   "cell_type": "markdown",
   "metadata": {},
   "source": [
    "## Show one img"
   ]
  },
  {
   "cell_type": "code",
   "execution_count": 7,
   "metadata": {},
   "outputs": [
    {
     "output_type": "display_data",
     "data": {
      "text/plain": "<Figure size 432x288 with 1 Axes>",
      "image/svg+xml": "<?xml version=\"1.0\" encoding=\"utf-8\" standalone=\"no\"?>\n<!DOCTYPE svg PUBLIC \"-//W3C//DTD SVG 1.1//EN\"\n  \"http://www.w3.org/Graphics/SVG/1.1/DTD/svg11.dtd\">\n<svg height=\"248.518125pt\" version=\"1.1\" viewBox=\"0 0 251.565 248.518125\" width=\"251.565pt\" xmlns=\"http://www.w3.org/2000/svg\" xmlns:xlink=\"http://www.w3.org/1999/xlink\">\n <metadata>\n  <rdf:RDF xmlns:cc=\"http://creativecommons.org/ns#\" xmlns:dc=\"http://purl.org/dc/elements/1.1/\" xmlns:rdf=\"http://www.w3.org/1999/02/22-rdf-syntax-ns#\">\n   <cc:Work>\n    <dc:type rdf:resource=\"http://purl.org/dc/dcmitype/StillImage\"/>\n    <dc:date>2021-07-15T10:07:43.175669</dc:date>\n    <dc:format>image/svg+xml</dc:format>\n    <dc:creator>\n     <cc:Agent>\n      <dc:title>Matplotlib v3.4.2, https://matplotlib.org/</dc:title>\n     </cc:Agent>\n    </dc:creator>\n   </cc:Work>\n  </rdf:RDF>\n </metadata>\n <defs>\n  <style type=\"text/css\">*{stroke-linecap:butt;stroke-linejoin:round;}</style>\n </defs>\n <g id=\"figure_1\">\n  <g id=\"patch_1\">\n   <path d=\"M 0 248.518125 \nL 251.565 248.518125 \nL 251.565 0 \nL 0 0 \nz\n\" style=\"fill:none;\"/>\n  </g>\n  <g id=\"axes_1\">\n   <g id=\"patch_2\">\n    <path d=\"M 26.925 224.64 \nL 244.365 224.64 \nL 244.365 7.2 \nL 26.925 7.2 \nz\n\" style=\"fill:#ffffff;\"/>\n   </g>\n   <g clip-path=\"url(#p07168d160e)\">\n    <image height=\"218\" id=\"imagecb06d2b641\" transform=\"scale(1 -1)translate(0 -218)\" width=\"218\" x=\"26.925\" xlink:href=\"data:image/png;base64,\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\" y=\"-6.64\"/>\n   </g>\n   <g id=\"matplotlib.axis_1\">\n    <g id=\"xtick_1\">\n     <g id=\"line2d_1\">\n      <defs>\n       <path d=\"M 0 0 \nL 0 3.5 \n\" id=\"m9e219d8c61\" style=\"stroke:#000000;stroke-width:0.8;\"/>\n      </defs>\n      <g>\n       <use style=\"stroke:#000000;stroke-width:0.8;\" x=\"30.807857\" xlink:href=\"#m9e219d8c61\" y=\"224.64\"/>\n      </g>\n     </g>\n     <g id=\"text_1\">\n      <!-- 0 -->\n      <g transform=\"translate(27.626607 239.238437)scale(0.1 -0.1)\">\n       <defs>\n        <path d=\"M 2034 4250 \nQ 1547 4250 1301 3770 \nQ 1056 3291 1056 2328 \nQ 1056 1369 1301 889 \nQ 1547 409 2034 409 \nQ 2525 409 2770 889 \nQ 3016 1369 3016 2328 \nQ 3016 3291 2770 3770 \nQ 2525 4250 2034 4250 \nz\nM 2034 4750 \nQ 2819 4750 3233 4129 \nQ 3647 3509 3647 2328 \nQ 3647 1150 3233 529 \nQ 2819 -91 2034 -91 \nQ 1250 -91 836 529 \nQ 422 1150 422 2328 \nQ 422 3509 836 4129 \nQ 1250 4750 2034 4750 \nz\n\" id=\"DejaVuSans-30\" transform=\"scale(0.015625)\"/>\n       </defs>\n       <use xlink:href=\"#DejaVuSans-30\"/>\n      </g>\n     </g>\n    </g>\n    <g id=\"xtick_2\">\n     <g id=\"line2d_2\">\n      <g>\n       <use style=\"stroke:#000000;stroke-width:0.8;\" x=\"69.636429\" xlink:href=\"#m9e219d8c61\" y=\"224.64\"/>\n      </g>\n     </g>\n     <g id=\"text_2\">\n      <!-- 5 -->\n      <g transform=\"translate(66.455179 239.238437)scale(0.1 -0.1)\">\n       <defs>\n        <path d=\"M 691 4666 \nL 3169 4666 \nL 3169 4134 \nL 1269 4134 \nL 1269 2991 \nQ 1406 3038 1543 3061 \nQ 1681 3084 1819 3084 \nQ 2600 3084 3056 2656 \nQ 3513 2228 3513 1497 \nQ 3513 744 3044 326 \nQ 2575 -91 1722 -91 \nQ 1428 -91 1123 -41 \nQ 819 9 494 109 \nL 494 744 \nQ 775 591 1075 516 \nQ 1375 441 1709 441 \nQ 2250 441 2565 725 \nQ 2881 1009 2881 1497 \nQ 2881 1984 2565 2268 \nQ 2250 2553 1709 2553 \nQ 1456 2553 1204 2497 \nQ 953 2441 691 2322 \nL 691 4666 \nz\n\" id=\"DejaVuSans-35\" transform=\"scale(0.015625)\"/>\n       </defs>\n       <use xlink:href=\"#DejaVuSans-35\"/>\n      </g>\n     </g>\n    </g>\n    <g id=\"xtick_3\">\n     <g id=\"line2d_3\">\n      <g>\n       <use style=\"stroke:#000000;stroke-width:0.8;\" x=\"108.465\" xlink:href=\"#m9e219d8c61\" y=\"224.64\"/>\n      </g>\n     </g>\n     <g id=\"text_3\">\n      <!-- 10 -->\n      <g transform=\"translate(102.1025 239.238437)scale(0.1 -0.1)\">\n       <defs>\n        <path d=\"M 794 531 \nL 1825 531 \nL 1825 4091 \nL 703 3866 \nL 703 4441 \nL 1819 4666 \nL 2450 4666 \nL 2450 531 \nL 3481 531 \nL 3481 0 \nL 794 0 \nL 794 531 \nz\n\" id=\"DejaVuSans-31\" transform=\"scale(0.015625)\"/>\n       </defs>\n       <use xlink:href=\"#DejaVuSans-31\"/>\n       <use x=\"63.623047\" xlink:href=\"#DejaVuSans-30\"/>\n      </g>\n     </g>\n    </g>\n    <g id=\"xtick_4\">\n     <g id=\"line2d_4\">\n      <g>\n       <use style=\"stroke:#000000;stroke-width:0.8;\" x=\"147.293571\" xlink:href=\"#m9e219d8c61\" y=\"224.64\"/>\n      </g>\n     </g>\n     <g id=\"text_4\">\n      <!-- 15 -->\n      <g transform=\"translate(140.931071 239.238437)scale(0.1 -0.1)\">\n       <use xlink:href=\"#DejaVuSans-31\"/>\n       <use x=\"63.623047\" xlink:href=\"#DejaVuSans-35\"/>\n      </g>\n     </g>\n    </g>\n    <g id=\"xtick_5\">\n     <g id=\"line2d_5\">\n      <g>\n       <use style=\"stroke:#000000;stroke-width:0.8;\" x=\"186.122143\" xlink:href=\"#m9e219d8c61\" y=\"224.64\"/>\n      </g>\n     </g>\n     <g id=\"text_5\">\n      <!-- 20 -->\n      <g transform=\"translate(179.759643 239.238437)scale(0.1 -0.1)\">\n       <defs>\n        <path d=\"M 1228 531 \nL 3431 531 \nL 3431 0 \nL 469 0 \nL 469 531 \nQ 828 903 1448 1529 \nQ 2069 2156 2228 2338 \nQ 2531 2678 2651 2914 \nQ 2772 3150 2772 3378 \nQ 2772 3750 2511 3984 \nQ 2250 4219 1831 4219 \nQ 1534 4219 1204 4116 \nQ 875 4013 500 3803 \nL 500 4441 \nQ 881 4594 1212 4672 \nQ 1544 4750 1819 4750 \nQ 2544 4750 2975 4387 \nQ 3406 4025 3406 3419 \nQ 3406 3131 3298 2873 \nQ 3191 2616 2906 2266 \nQ 2828 2175 2409 1742 \nQ 1991 1309 1228 531 \nz\n\" id=\"DejaVuSans-32\" transform=\"scale(0.015625)\"/>\n       </defs>\n       <use xlink:href=\"#DejaVuSans-32\"/>\n       <use x=\"63.623047\" xlink:href=\"#DejaVuSans-30\"/>\n      </g>\n     </g>\n    </g>\n    <g id=\"xtick_6\">\n     <g id=\"line2d_6\">\n      <g>\n       <use style=\"stroke:#000000;stroke-width:0.8;\" x=\"224.950714\" xlink:href=\"#m9e219d8c61\" y=\"224.64\"/>\n      </g>\n     </g>\n     <g id=\"text_6\">\n      <!-- 25 -->\n      <g transform=\"translate(218.588214 239.238437)scale(0.1 -0.1)\">\n       <use xlink:href=\"#DejaVuSans-32\"/>\n       <use x=\"63.623047\" xlink:href=\"#DejaVuSans-35\"/>\n      </g>\n     </g>\n    </g>\n   </g>\n   <g id=\"matplotlib.axis_2\">\n    <g id=\"ytick_1\">\n     <g id=\"line2d_7\">\n      <defs>\n       <path d=\"M 0 0 \nL -3.5 0 \n\" id=\"m8196bfa538\" style=\"stroke:#000000;stroke-width:0.8;\"/>\n      </defs>\n      <g>\n       <use style=\"stroke:#000000;stroke-width:0.8;\" x=\"26.925\" xlink:href=\"#m8196bfa538\" y=\"11.082857\"/>\n      </g>\n     </g>\n     <g id=\"text_7\">\n      <!-- 0 -->\n      <g transform=\"translate(13.5625 14.882076)scale(0.1 -0.1)\">\n       <use xlink:href=\"#DejaVuSans-30\"/>\n      </g>\n     </g>\n    </g>\n    <g id=\"ytick_2\">\n     <g id=\"line2d_8\">\n      <g>\n       <use style=\"stroke:#000000;stroke-width:0.8;\" x=\"26.925\" xlink:href=\"#m8196bfa538\" y=\"49.911429\"/>\n      </g>\n     </g>\n     <g id=\"text_8\">\n      <!-- 5 -->\n      <g transform=\"translate(13.5625 53.710647)scale(0.1 -0.1)\">\n       <use xlink:href=\"#DejaVuSans-35\"/>\n      </g>\n     </g>\n    </g>\n    <g id=\"ytick_3\">\n     <g id=\"line2d_9\">\n      <g>\n       <use style=\"stroke:#000000;stroke-width:0.8;\" x=\"26.925\" xlink:href=\"#m8196bfa538\" y=\"88.74\"/>\n      </g>\n     </g>\n     <g id=\"text_9\">\n      <!-- 10 -->\n      <g transform=\"translate(7.2 92.539219)scale(0.1 -0.1)\">\n       <use xlink:href=\"#DejaVuSans-31\"/>\n       <use x=\"63.623047\" xlink:href=\"#DejaVuSans-30\"/>\n      </g>\n     </g>\n    </g>\n    <g id=\"ytick_4\">\n     <g id=\"line2d_10\">\n      <g>\n       <use style=\"stroke:#000000;stroke-width:0.8;\" x=\"26.925\" xlink:href=\"#m8196bfa538\" y=\"127.568571\"/>\n      </g>\n     </g>\n     <g id=\"text_10\">\n      <!-- 15 -->\n      <g transform=\"translate(7.2 131.36779)scale(0.1 -0.1)\">\n       <use xlink:href=\"#DejaVuSans-31\"/>\n       <use x=\"63.623047\" xlink:href=\"#DejaVuSans-35\"/>\n      </g>\n     </g>\n    </g>\n    <g id=\"ytick_5\">\n     <g id=\"line2d_11\">\n      <g>\n       <use style=\"stroke:#000000;stroke-width:0.8;\" x=\"26.925\" xlink:href=\"#m8196bfa538\" y=\"166.397143\"/>\n      </g>\n     </g>\n     <g id=\"text_11\">\n      <!-- 20 -->\n      <g transform=\"translate(7.2 170.196362)scale(0.1 -0.1)\">\n       <use xlink:href=\"#DejaVuSans-32\"/>\n       <use x=\"63.623047\" xlink:href=\"#DejaVuSans-30\"/>\n      </g>\n     </g>\n    </g>\n    <g id=\"ytick_6\">\n     <g id=\"line2d_12\">\n      <g>\n       <use style=\"stroke:#000000;stroke-width:0.8;\" x=\"26.925\" xlink:href=\"#m8196bfa538\" y=\"205.225714\"/>\n      </g>\n     </g>\n     <g id=\"text_12\">\n      <!-- 25 -->\n      <g transform=\"translate(7.2 209.024933)scale(0.1 -0.1)\">\n       <use xlink:href=\"#DejaVuSans-32\"/>\n       <use x=\"63.623047\" xlink:href=\"#DejaVuSans-35\"/>\n      </g>\n     </g>\n    </g>\n   </g>\n   <g id=\"patch_3\">\n    <path d=\"M 26.925 224.64 \nL 26.925 7.2 \n\" style=\"fill:none;stroke:#000000;stroke-linecap:square;stroke-linejoin:miter;stroke-width:0.8;\"/>\n   </g>\n   <g id=\"patch_4\">\n    <path d=\"M 244.365 224.64 \nL 244.365 7.2 \n\" style=\"fill:none;stroke:#000000;stroke-linecap:square;stroke-linejoin:miter;stroke-width:0.8;\"/>\n   </g>\n   <g id=\"patch_5\">\n    <path d=\"M 26.925 224.64 \nL 244.365 224.64 \n\" style=\"fill:none;stroke:#000000;stroke-linecap:square;stroke-linejoin:miter;stroke-width:0.8;\"/>\n   </g>\n   <g id=\"patch_6\">\n    <path d=\"M 26.925 7.2 \nL 244.365 7.2 \n\" style=\"fill:none;stroke:#000000;stroke-linecap:square;stroke-linejoin:miter;stroke-width:0.8;\"/>\n   </g>\n  </g>\n </g>\n <defs>\n  <clipPath id=\"p07168d160e\">\n   <rect height=\"217.44\" width=\"217.44\" x=\"26.925\" y=\"7.2\"/>\n  </clipPath>\n </defs>\n</svg>\n",
      "image/png": "[encoded data removed]"
     },
     "metadata": {
      "needs_background": "light"
     }
    }
   ],
   "source": [
    "test_img = images[7]\n",
    "plt.imshow(test_img, cmap='gray')\n",
    "plt.show()"
   ]
  },
  {
   "cell_type": "markdown",
   "metadata": {},
   "source": [
    "## Test conversion on one img"
   ]
  },
  {
   "cell_type": "code",
   "execution_count": 10,
   "metadata": {
    "pycharm": {
     "is_executing": false
    }
   },
   "outputs": [
    {
     "output_type": "stream",
     "name": "stdout",
     "text": [
      "<class 'numpy.ndarray'>\n(81, 1)\n(450, 2)\n(81, 2)\n"
     ]
    }
   ],
   "source": [
    "from src.utils.superpixel_generation import convert_numpy_img_to_superpixel_graph\n",
    "\n",
    "\n",
    "x, edge_index, pos = convert_numpy_img_to_superpixel_graph(\n",
    "    test_img,\n",
    "    desired_nodes = DESIRED_NODES, \n",
    "    # add_position_to_features=ADD_POSITION_TO_FEATURES\n",
    ")\n",
    "print(type(x))\n",
    "print(x.shape)\n",
    "print(edge_index.shape)\n",
    "print(pos.shape)\n",
    "# print(x)\n",
    "# x = x - np.mean(x) / np.std(x)\n",
    "# print(x)"
   ]
  },
  {
   "cell_type": "markdown",
   "metadata": {},
   "source": [
    "## Convert img dataset to superpixel graph dataset"
   ]
  },
  {
   "cell_type": "code",
   "execution_count": 13,
   "metadata": {},
   "outputs": [
    {
     "output_type": "stream",
     "name": "stdout",
     "text": [
      "Processing images into graphs...\n",
      "100%|██████████| 70000/70000 [02:07<00:00, 551.14it/s]\n",
      "Took 127.560866355896s.\n"
     ]
    }
   ],
   "source": [
    "import multiprocessing\n",
    "from itertools import repeat\n",
    "\n",
    "# apply patch to enable progress bar with multiprocessing, requires python 3.8+\n",
    "# see https://stackoverflow.com/questions/57354700/starmap-combined-with-tqdm/57364423#57364423\n",
    "from src.utils.multiprocessing_istarmap import multiprocessing_istarmap\n",
    "multiprocessing.pool.Pool.istarmap = multiprocessing_istarmap\n",
    "\n",
    "# method for img -> superpixel_graph conversion\n",
    "from src.utils.superpixel_generation import convert_numpy_img_to_superpixel_graph\n",
    "\n",
    "# tqdm for progress bar\n",
    "from tqdm.auto import tqdm\n",
    "\n",
    "\n",
    "print(\"Processing images into graphs...\")\n",
    "ptime = time.time()\n",
    "\n",
    "\n",
    "x_list = []\n",
    "edge_index_list = []\n",
    "pos_list = []\n",
    "slices = {\n",
    "    \"x\": [0],\n",
    "    \"edge_index\": [0],\n",
    "    \"pos\": [0],\n",
    "    \"y\": [0],\n",
    "}\n",
    "\n",
    "\n",
    "NUM_WORKERS = 8  # don't use too much or it will crash\n",
    "with multiprocessing.Pool(NUM_WORKERS) as pool:\n",
    "    args = list(zip(images, repeat(DESIRED_NODES)))\n",
    "    for graph in tqdm(pool.istarmap(convert_numpy_img_to_superpixel_graph, args), total=len(args)):\n",
    "        x, edge_index, pos = graph\n",
    "        \n",
    "        x = torch.as_tensor(x, dtype=torch.float32)\n",
    "        edge_index = torch.as_tensor(edge_index, dtype=torch.long)\n",
    "        pos = torch.as_tensor(pos, dtype=torch.float32)\n",
    "        \n",
    "        x_list.append(x)\n",
    "        edge_index_list.append(edge_index)\n",
    "        pos_list.append(pos)\n",
    "        \n",
    "        slices[\"x\"].append(slices[\"x\"][-1] + len(x))\n",
    "        slices[\"edge_index\"].append(slices[\"edge_index\"][-1] + len(edge_index))\n",
    "        slices[\"pos\"].append(slices[\"pos\"][-1] + len(pos))\n",
    "        slices[\"y\"].append(slices[\"y\"][-1] + 1)\n",
    "\n",
    "\n",
    "x_tensor = torch.cat(x_list, dim=0)\n",
    "edge_index_tensor = torch.cat(edge_index_list, dim=0).T\n",
    "pos_tensor = torch.cat(pos_list, dim=0)         \n",
    "y_tensor = torch.as_tensor(labels, dtype=torch.long)\n",
    "\n",
    "slices[\"x\"] = torch.as_tensor(slices[\"x\"], dtype=torch.long)\n",
    "slices[\"edge_index\"] = torch.as_tensor(slices[\"edge_index\"], dtype=torch.long)\n",
    "slices[\"pos\"] = torch.as_tensor(slices[\"pos\"], dtype=torch.long)\n",
    "slices[\"y\"] = torch.as_tensor(slices[\"y\"], dtype=torch.long)\n",
    "\n",
    "del x_list\n",
    "del edge_index_list\n",
    "del pos_list\n",
    "            \n",
    "\n",
    "ptime = time.time() - ptime\n",
    "print(f\"Took {ptime}s.\")"
   ]
  },
  {
   "cell_type": "code",
   "execution_count": 14,
   "metadata": {},
   "outputs": [
    {
     "output_type": "stream",
     "name": "stdout",
     "text": [
      "torch.Size([5670000, 1])\ntorch.Size([2, 31500000])\ntorch.Size([5670000, 2])\ntorch.Size([70000])\n"
     ]
    }
   ],
   "source": [
    "print(x_tensor.shape)\n",
    "print(edge_index_tensor.shape)\n",
    "print(pos_tensor.shape)\n",
    "print(y_tensor.shape)"
   ]
  },
  {
   "cell_type": "code",
   "execution_count": 15,
   "metadata": {},
   "outputs": [
    {
     "output_type": "stream",
     "name": "stdout",
     "text": [
      "Data(edge_index=[2, 31500000], pos=[5670000, 2], x=[5670000, 1], y=[70000])\n"
     ]
    }
   ],
   "source": [
    "data = Data(x=x_tensor, edge_index=edge_index_tensor, pos=pos_tensor, y=y_tensor)\n",
    "print(data)"
   ]
  },
  {
   "cell_type": "markdown",
   "metadata": {},
   "source": [
    "## Save dataset in PyTorch Geometric format"
   ]
  },
  {
   "cell_type": "code",
   "execution_count": 16,
   "metadata": {},
   "outputs": [],
   "source": [
    "import os\n",
    "\n",
    "path = \"../data/\" + DATASET_NAME + \"_sp_\" + str(DESIRED_NODES) + \"/\" + \"processed\" + \"/\"\n",
    "if not os.path.exists(path):\n",
    "    os.makedirs(path)\n",
    "\n",
    "torch.save((data, slices), path + \"data.pt\")"
   ]
  },
  {
   "cell_type": "code",
   "execution_count": null,
   "metadata": {},
   "outputs": [],
   "source": []
  },
  {
   "cell_type": "code",
   "execution_count": null,
   "metadata": {},
   "outputs": [],
   "source": []
  }
 ],
 "metadata": {
  "kernelspec": {
   "name": "python3",
   "display_name": "Python 3.8.10 64-bit ('pygeom': conda)"
  },
  "language_info": {
   "codemirror_mode": {
    "name": "ipython",
    "version": 3
   },
   "file_extension": ".py",
   "mimetype": "text/x-python",
   "name": "python",
   "nbconvert_exporter": "python",
   "pygments_lexer": "ipython3",
   "version": "3.8.10"
  },
  "pycharm": {
   "stem_cell": {
    "cell_type": "raw",
    "metadata": {
     "collapsed": false
    },
    "source": []
   }
  },
  "interpreter": {
   "hash": "fdc3d80de92199ae7b805ee321b69677de7b9006da1fbe4595f69bde2780f20a"
  }
 },
 "nbformat": 4,
 "nbformat_minor": 1
}
